{
 "cells": [
  {
   "cell_type": "code",
   "execution_count": null,
   "metadata": {},
   "outputs": [],
   "source": [
    "#pip install torch torchvision\n",
    "#pip install git+https://github.com/ultralytics/yolov5.git\n"
   ]
  },
  {
   "cell_type": "code",
   "execution_count": null,
   "metadata": {},
   "outputs": [],
   "source": [
    "import torch\n",
    "from pathlib import Path\n",
    "from PIL import Image\n",
    "import matplotlib.pyplot as plt\n",
    "\n",
    "# Charger le modèle YOLOv5\n",
    "model = torch.hub.load('ultralytics/yolov5', 'custom', path='path/to/your_model.pt' #mon modèle.pt)\n",
    "\n",
    "# Liste des chemins d'images\n",
    "image_paths = [\n",
    "    'path/to/your_image1.jpg',\n",
    "    'path/to/your_image2.jpg',\n",
    "    'path/to/your_image3.jpg'\n",
    "    # Ajoute autant de chemins que nécessaire\n",
    "]\n",
    "\n",
    "# Dossier pour sauvegarder les résultats\n",
    "output_dir = Path('output')\n",
    "output_dir.mkdir(parents=True, exist_ok=True)\n",
    "\n",
    "# Boucle pour traiter chaque image\n",
    "for img_path in image_paths:\n",
    "    # Charger l'image\n",
    "    img = Image.open(img_path)\n",
    "\n",
    "    # Faire la prédiction\n",
    "    results = model(img_path)\n",
    "\n",
    "    # Afficher les résultats\n",
    "    results.show()\n",
    "\n",
    "    # Sauvegarder les résultats dans un fichier\n",
    "    result_img_path = output_dir / f'result_{Path(img_path).stem}.jpg'\n",
    "    results.save(save_dir=output_dir)\n",
    "\n",
    "    # Afficher les détails des détections\n",
    "    detections = results.pred[0]\n",
    "    print(f'Image: {img_path}')\n",
    "    for *box, conf, cls in detections:\n",
    "        x1, y1, x2, y2 = box\n",
    "        print(f'  Classe: {cls}, Confiance: {conf:.2f}, Coordonnées: ({x1:.2f}, {y1:.2f}, {x2:.2f}, {y2:.2f})')\n"
   ]
  }
 ],
 "metadata": {
  "language_info": {
   "name": "python"
  }
 },
 "nbformat": 4,
 "nbformat_minor": 2
}
